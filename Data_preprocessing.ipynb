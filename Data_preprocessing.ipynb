{
 "cells": [
  {
   "cell_type": "markdown",
   "metadata": {
    "id": "ALE92auoIx1f"
   },
   "source": [
    "# Convote Dataset - Basic Preprocessing\n",
    "- Data Main Page: http://www.cs.cornell.edu/home/llee/data/convote.html \n",
    "- About the Data: http://www.cs.cornell.edu/home/llee/data/convote/README.v1.1.txt\n"
   ]
  },
  {
   "cell_type": "code",
   "execution_count": null,
   "metadata": {
    "id": "0_iQoNUKIx1s"
   },
   "outputs": [],
   "source": [
    "import sys\n",
    "import pandas as pd\n",
    "import os\n",
    "import string\n",
    "import nltk\n",
    "from nltk.tokenize import regexp_tokenize, word_tokenize, sent_tokenize\n",
    "from nltk.probability import FreqDist\n",
    "import timeit\n",
    "from sklearn import metrics\n",
    "from sklearn.metrics import plot_precision_recall_curve\n",
    "from sklearn.feature_extraction.text import CountVectorizer\n",
    "from sklearn.feature_extraction.text import TfidfTransformer\n",
    "\n",
    "\n",
    "# Access to fasstext transform\n",
    "sys.path.insert(0, '/Users/jilljenkins/Desktop/NLP/Project/word_embedding')\n",
    "from data import transform_data_fasttext\n",
    "\n",
    "import warnings\n",
    "warnings.filterwarnings('ignore')"
   ]
  },
  {
   "cell_type": "code",
   "execution_count": null,
   "metadata": {
    "id": "UNf8i6_DIx17"
   },
   "outputs": [],
   "source": [
    "# For now, we will use the data from stage one\n",
    "train_path = ('./convote_v1.1/data_stage_one/training_set/')\n",
    "test_path = ('./convote_v1.1/data_stage_one/test_set/')\n",
    "train_file_names = os.listdir(train_path)\n",
    "test_file_names = os.listdir(test_path)\n",
    "\n",
    "# Create Dictionary for File Name and Text\n",
    "file_name_and_text = {}\n",
    "for file in train_file_names:\n",
    "    with open(train_path + file, 'r') as target_file:\n",
    "         file_name_and_text[file] = target_file.read()\n",
    "\n",
    "# Structure the dataframe such that the file name is the index\n",
    "train_data = (pd.DataFrame.from_dict(file_name_and_text, orient='index')\n",
    "             .reset_index().rename(index = str, columns = {'index': 'File', 0: 'Text'}))\n",
    "\n",
    "# This is redundant but fastest given the data is partitioned into directories\n",
    "file_name_and_text = {}\n",
    "for file in test_file_names:\n",
    "    with open(test_path + file, 'r') as target_file:\n",
    "         file_name_and_text[file] = target_file.read()\n",
    "\n",
    "test_data = (pd.DataFrame.from_dict(file_name_and_text, orient='index')\n",
    "             .reset_index().rename(index = str, columns = {'index': 'File', 0: 'Text'}))"
   ]
  },
  {
   "cell_type": "code",
   "execution_count": null,
   "metadata": {
    "id": "ZurqPzMRIx2c"
   },
   "outputs": [],
   "source": [
    "# Remove file extension\n",
    "train_data['File'] = train_data['File'].map(lambda x: x.replace('.txt', ''))\n",
    "test_data['File'] = test_data['File'].map(lambda x: x.replace('.txt', ''))"
   ]
  },
  {
   "cell_type": "code",
   "execution_count": null,
   "metadata": {
    "id": "MKepxEgBIx2u"
   },
   "outputs": [],
   "source": [
    "# Add Label feature (derived from end of file name)\n",
    "Label = []\n",
    "\n",
    "for i in train_data.File:\n",
    "    Label.append(i[-3:])\n",
    "    \n",
    "train_data['Label'] = Label"
   ]
  },
  {
   "cell_type": "markdown",
   "metadata": {
    "id": "zYvvOemfIx24"
   },
   "source": [
    "### 'Label' feature Details \n",
    "- 'P' is replaced by a party indicator, D or R (or X if no\n",
    "   corresponding party could be found).  As mentioned in the paper, we \n",
    "   purposely *did not* use this information in our experiments.\n",
    "\n",
    "- 'M' is replaced by an indicator of whether the bill under\n",
    "   discussion is mentioned directly in the speech segment, or whether it is\n",
    "   only referenced by another speech segment on the same page.  If the bill is\n",
    "   directly mentioned in the current speech, the letter M appears in\n",
    "   the file name; otherwise, the letter O appears.\n",
    "\n",
    "- 'V' is replaced by a vote indicator, Y or N, which serves as the\n",
    "   ground-truth label for the speech."
   ]
  },
  {
   "cell_type": "code",
   "execution_count": null,
   "metadata": {
    "id": "2SJuqdD4Ix25"
   },
   "outputs": [],
   "source": [
    "# Split Label into three columns\n",
    "train_data['Party'] = train_data['Label'].apply(lambda x: pd.Series(list(x)))[0]\n",
    "train_data['Discussion'] = train_data['Label'].apply(lambda x: pd.Series(list(x)))[1]\n",
    "train_data['Vote'] = train_data['Label'].apply(lambda x: pd.Series(list(x)))[2]"
   ]
  },
  {
   "cell_type": "code",
   "execution_count": null,
   "metadata": {
    "id": "vQuSSwxpIx3F",
    "outputId": "75310b30-3df6-49e5-b887-b79d365a6121"
   },
   "outputs": [
    {
     "data": {
      "text/html": [
       "<div>\n",
       "<style scoped>\n",
       "    .dataframe tbody tr th:only-of-type {\n",
       "        vertical-align: middle;\n",
       "    }\n",
       "\n",
       "    .dataframe tbody tr th {\n",
       "        vertical-align: top;\n",
       "    }\n",
       "\n",
       "    .dataframe thead th {\n",
       "        text-align: right;\n",
       "    }\n",
       "</style>\n",
       "<table border=\"1\" class=\"dataframe\">\n",
       "  <thead>\n",
       "    <tr style=\"text-align: right;\">\n",
       "      <th></th>\n",
       "      <th>File</th>\n",
       "      <th>Text</th>\n",
       "      <th>Label</th>\n",
       "      <th>Party</th>\n",
       "      <th>Discussion</th>\n",
       "      <th>Vote</th>\n",
       "    </tr>\n",
       "  </thead>\n",
       "  <tbody>\n",
       "    <tr>\n",
       "      <th>0</th>\n",
       "      <td>282_400436_1413023_DMN</td>\n",
       "      <td>mr. speaker , i would like to say a word about...</td>\n",
       "      <td>DMN</td>\n",
       "      <td>D</td>\n",
       "      <td>M</td>\n",
       "      <td>N</td>\n",
       "    </tr>\n",
       "    <tr>\n",
       "      <th>1</th>\n",
       "      <td>088_400272_2994052_DON</td>\n",
       "      <td>mr. speaker , today we have some very clear ch...</td>\n",
       "      <td>DON</td>\n",
       "      <td>D</td>\n",
       "      <td>O</td>\n",
       "      <td>N</td>\n",
       "    </tr>\n",
       "    <tr>\n",
       "      <th>2</th>\n",
       "      <td>038_400080_0251064_DON</td>\n",
       "      <td>mr. speaker , i yield myself such time as i ma...</td>\n",
       "      <td>DON</td>\n",
       "      <td>D</td>\n",
       "      <td>O</td>\n",
       "      <td>N</td>\n",
       "    </tr>\n",
       "    <tr>\n",
       "      <th>3</th>\n",
       "      <td>132_400227_0763073_DON</td>\n",
       "      <td>mr. chairman , i yield back the balance of my ...</td>\n",
       "      <td>DON</td>\n",
       "      <td>D</td>\n",
       "      <td>O</td>\n",
       "      <td>N</td>\n",
       "    </tr>\n",
       "    <tr>\n",
       "      <th>4</th>\n",
       "      <td>282_400380_1838049_ROY</td>\n",
       "      <td>madam chairman , will the gentleman yield ? \\n</td>\n",
       "      <td>ROY</td>\n",
       "      <td>R</td>\n",
       "      <td>O</td>\n",
       "      <td>Y</td>\n",
       "    </tr>\n",
       "  </tbody>\n",
       "</table>\n",
       "</div>"
      ],
      "text/plain": [
       "                     File                                               Text  \\\n",
       "0  282_400436_1413023_DMN  mr. speaker , i would like to say a word about...   \n",
       "1  088_400272_2994052_DON  mr. speaker , today we have some very clear ch...   \n",
       "2  038_400080_0251064_DON  mr. speaker , i yield myself such time as i ma...   \n",
       "3  132_400227_0763073_DON  mr. chairman , i yield back the balance of my ...   \n",
       "4  282_400380_1838049_ROY     madam chairman , will the gentleman yield ? \\n   \n",
       "\n",
       "  Label Party Discussion Vote  \n",
       "0   DMN     D          M    N  \n",
       "1   DON     D          O    N  \n",
       "2   DON     D          O    N  \n",
       "3   DON     D          O    N  \n",
       "4   ROY     R          O    Y  "
      ]
     },
     "execution_count": 7,
     "metadata": {
      "tags": []
     },
     "output_type": "execute_result"
    }
   ],
   "source": [
    "train_data.head()"
   ]
  },
  {
   "cell_type": "code",
   "execution_count": null,
   "metadata": {
    "id": "OpF4ijI7Ix3Q"
   },
   "outputs": [],
   "source": [
    "# Test data has some Stage 2 files, not sure why - removed 2\n",
    "Label = []\n",
    "for i in test_data.File:\n",
    "    label = i.rstrip('0123456789.- ')\n",
    "    Label.append(label[-3:])\n",
    "\n",
    "test_data['Label'] = Label"
   ]
  },
  {
   "cell_type": "code",
   "execution_count": null,
   "metadata": {
    "id": "fiQcXIQrIx3X"
   },
   "outputs": [],
   "source": [
    "# Split label into distinct columns\n",
    "test_data['Party'] = test_data['Label'].apply(lambda x: pd.Series(list(x)))[0]\n",
    "test_data['Discussion'] = test_data['Label'].apply(lambda x: pd.Series(list(x)))[1]\n",
    "test_data['Vote'] = test_data['Label'].apply(lambda x: pd.Series(list(x)))[2]"
   ]
  },
  {
   "cell_type": "code",
   "execution_count": null,
   "metadata": {
    "id": "-g5g_gVGIx3g",
    "outputId": "c83f7f8c-7557-481c-ab2a-cae3daaa1c3a"
   },
   "outputs": [
    {
     "data": {
      "text/html": [
       "<div>\n",
       "<style scoped>\n",
       "    .dataframe tbody tr th:only-of-type {\n",
       "        vertical-align: middle;\n",
       "    }\n",
       "\n",
       "    .dataframe tbody tr th {\n",
       "        vertical-align: top;\n",
       "    }\n",
       "\n",
       "    .dataframe thead th {\n",
       "        text-align: right;\n",
       "    }\n",
       "</style>\n",
       "<table border=\"1\" class=\"dataframe\">\n",
       "  <thead>\n",
       "    <tr style=\"text-align: right;\">\n",
       "      <th></th>\n",
       "      <th>File</th>\n",
       "      <th>Text</th>\n",
       "      <th>Label</th>\n",
       "      <th>Party</th>\n",
       "      <th>Discussion</th>\n",
       "      <th>Vote</th>\n",
       "    </tr>\n",
       "  </thead>\n",
       "  <tbody>\n",
       "    <tr>\n",
       "      <th>0</th>\n",
       "      <td>414_400080_3170075_DON</td>\n",
       "      <td>madam speaker , i yield myself 35 seconds . \\n...</td>\n",
       "      <td>DON</td>\n",
       "      <td>D</td>\n",
       "      <td>O</td>\n",
       "      <td>N</td>\n",
       "    </tr>\n",
       "    <tr>\n",
       "      <th>1</th>\n",
       "      <td>414_400061_1909178_ROY</td>\n",
       "      <td>mr. chairman , i demand a recorded vote . \\n</td>\n",
       "      <td>ROY</td>\n",
       "      <td>R</td>\n",
       "      <td>O</td>\n",
       "      <td>Y</td>\n",
       "    </tr>\n",
       "    <tr>\n",
       "      <th>2</th>\n",
       "      <td>102_400175_0641038_ROY</td>\n",
       "      <td>mr. speaker , i rise today as a cosponsor of h...</td>\n",
       "      <td>ROY</td>\n",
       "      <td>R</td>\n",
       "      <td>O</td>\n",
       "      <td>Y</td>\n",
       "    </tr>\n",
       "    <tr>\n",
       "      <th>3</th>\n",
       "      <td>414_400080_3170065_DON</td>\n",
       "      <td>madam speaker , i yield myself 15 seconds . \\n...</td>\n",
       "      <td>DON</td>\n",
       "      <td>D</td>\n",
       "      <td>O</td>\n",
       "      <td>N</td>\n",
       "    </tr>\n",
       "    <tr>\n",
       "      <th>4</th>\n",
       "      <td>472_400314_2238033_DON</td>\n",
       "      <td>mr. speaker , i thank the ranking member , the...</td>\n",
       "      <td>DON</td>\n",
       "      <td>D</td>\n",
       "      <td>O</td>\n",
       "      <td>N</td>\n",
       "    </tr>\n",
       "  </tbody>\n",
       "</table>\n",
       "</div>"
      ],
      "text/plain": [
       "                     File                                               Text  \\\n",
       "0  414_400080_3170075_DON  madam speaker , i yield myself 35 seconds . \\n...   \n",
       "1  414_400061_1909178_ROY       mr. chairman , i demand a recorded vote . \\n   \n",
       "2  102_400175_0641038_ROY  mr. speaker , i rise today as a cosponsor of h...   \n",
       "3  414_400080_3170065_DON  madam speaker , i yield myself 15 seconds . \\n...   \n",
       "4  472_400314_2238033_DON  mr. speaker , i thank the ranking member , the...   \n",
       "\n",
       "  Label Party Discussion Vote  \n",
       "0   DON     D          O    N  \n",
       "1   ROY     R          O    Y  \n",
       "2   ROY     R          O    Y  \n",
       "3   DON     D          O    N  \n",
       "4   DON     D          O    N  "
      ]
     },
     "execution_count": 10,
     "metadata": {
      "tags": []
     },
     "output_type": "execute_result"
    }
   ],
   "source": [
    "test_data.head()"
   ]
  },
  {
   "cell_type": "markdown",
   "metadata": {
    "id": "Vy6gWL5yIx3l"
   },
   "source": [
    "### Party Speech Distribution"
   ]
  },
  {
   "cell_type": "code",
   "execution_count": null,
   "metadata": {
    "id": "p6aaqrEdIx3m",
    "outputId": "3b0540a4-b891-4085-8c0d-15d8145b947e"
   },
   "outputs": [
    {
     "name": "stdout",
     "output_type": "stream",
     "text": [
      "Training Party Distribution: \n",
      " D    2848\n",
      "R    2786\n",
      "I      26\n",
      "Name: Party, dtype: int64 \n",
      "\n",
      "Test Party Distribution: \n",
      " R    891\n",
      "D    863\n",
      "I      5\n",
      "Name: Party, dtype: int64 \n",
      "\n"
     ]
    }
   ],
   "source": [
    "print('Training Party Distribution:', '\\n', train_data['Party'].value_counts(), '\\n')\n",
    "print('Test Party Distribution:', '\\n', test_data['Party'].value_counts(), '\\n')"
   ]
  },
  {
   "cell_type": "markdown",
   "metadata": {
    "id": "3LEWzixPIx3v"
   },
   "source": [
    "### Sentence Count & Length"
   ]
  },
  {
   "cell_type": "code",
   "execution_count": null,
   "metadata": {
    "id": "c-TprPI2Ix3w"
   },
   "outputs": [],
   "source": [
    "# Add column for sentence count\n",
    "train_data['NumSents'] = train_data['Text'].apply(lambda x: len(x.strip().split('\\n')))\n",
    "test_data['NumSents'] = test_data['Text'].apply(lambda x: len(x.strip().split('\\n')))"
   ]
  },
  {
   "cell_type": "code",
   "execution_count": null,
   "metadata": {
    "id": "4T6pxwRlIx32",
    "outputId": "890edfcf-2831-40fd-af1c-75f67f1c2a64"
   },
   "outputs": [
    {
     "data": {
      "text/plain": [
       "0        5\n",
       "1        1\n",
       "2       19\n",
       "3        4\n",
       "4       61\n",
       "        ..\n",
       "1754     1\n",
       "1755     1\n",
       "1756     1\n",
       "1757     1\n",
       "1758    39\n",
       "Name: NumSents, Length: 1759, dtype: int64"
      ]
     },
     "execution_count": 13,
     "metadata": {
      "tags": []
     },
     "output_type": "execute_result"
    }
   ],
   "source": [
    "train_data['NumSents']\n",
    "test_data['NumSents']"
   ]
  },
  {
   "cell_type": "markdown",
   "metadata": {
    "id": "JL7KPN-5Ix4A"
   },
   "source": [
    "# Tokenization"
   ]
  },
  {
   "cell_type": "code",
   "execution_count": null,
   "metadata": {
    "id": "l96gPvx6Ix4B",
    "outputId": "00eca4f6-bc8f-43b2-fe0a-8a9e60ccd9ed"
   },
   "outputs": [
    {
     "data": {
      "text/plain": [
       "\"mr. speaker , today we have some very clear choices . \\nit is not every day that we face such black and white options -- often the issues we debate on this floor have many shades of gray . \\nbut today , there is no confusion , there is no muddying of the issues , and there is no way to mask the harm this bill would do : cut education spending for the first time in a decade , slash funding for worker and youth training , and provide no increase for home heating assistance for low-income families . \\ntoday , we have a choice . \\nwe can pass a bill that will be detrimental to our children 's future ; that will hurt students in need of financial assistance to go to college ; that will not help families struggling to pay their heating bills ; and that will severely hinder research and preventive health efforts . \\nor we can reject this bill and demand something better for american families . \\nwe have heard that this bill is the result of priorities . \\nwell , this is one point where i agree with my republican colleagues . \\nthis bill is the result of priorities . \\nthe wrong priorities , mr. speaker . \\nwhen the republican leadership of this congress is content to spend more on tax cuts than on the entire department of education or labor ; when we can spend $ 70 billion in tax cuts but can not provide children the access to technology or advanced science and math instruction they need to compete in today 's world ; when we can give millionaires a break but can not provide students even a meager increase in pell grants to help them pay for the rising cost of college ; when we can shell out billions in tax breaks to oil companies but can not help those in need prepare for what is expected to be one of the costliest winters yet ; it is clear that republicans have the wrong priorities in mind . \\nmr. speaker , our nation 's children should not have their education shortchanged because the administration had to scrounge around for a few million here and there to pay for tax cuts that benefit a small minority in this country . \\nat a time when people are losing faith in their government and their leaders , when they are asking for honesty and looking for answers to their everyday needs , this bill provides no answers . \\nthis bill tells them to go it alone . \\nmr. speaker , america deserves better than this . \\nvote no on this conference report that shortchanges and unfairly punishes everyday americans . \\n\""
      ]
     },
     "execution_count": 14,
     "metadata": {
      "tags": []
     },
     "output_type": "execute_result"
    }
   ],
   "source": [
    "train_data['Text'][1]"
   ]
  },
  {
   "cell_type": "code",
   "execution_count": null,
   "metadata": {
    "id": "MRy8rmXNIx4F"
   },
   "outputs": [],
   "source": [
    "# Phrases like: 'Mr. Chairman' & 'Mr. Speaker' appear frequently - not informative\n",
    "# Add to custom stopwords list"
   ]
  },
  {
   "cell_type": "markdown",
   "metadata": {
    "id": "U0_BlFZgIx4K"
   },
   "source": [
    "### Custom Stopwords Creation"
   ]
  },
  {
   "cell_type": "code",
   "execution_count": null,
   "metadata": {
    "id": "vdpsrd16Ix4M"
   },
   "outputs": [],
   "source": [
    "# Initialize builtin and custom stopwords\n",
    "stopwords = nltk.corpus.stopwords.words('english')\n",
    "customStopWords = ['mr', 'chairman','mr', 'speaker', 'madam', 'mr.', \n",
    "                   'yield', 'gentleman', 'gentlewoman', 'minutes', 'time']\n",
    "stopwords.extend(customStopWords)\n",
    "\n",
    "# Join stopwords and punctuation\n",
    "punct = list(string.punctuation)\n",
    "stops = stopwords + punct + ['--',\"''\", 'r.', '``', \"'s\", \"n't\"]"
   ]
  },
  {
   "cell_type": "code",
   "execution_count": null,
   "metadata": {
    "id": "4CQABA9EIx4W"
   },
   "outputs": [],
   "source": [
    "# Function to tokenize \n",
    "def tokenize_speech(text, party):\n",
    "    if 'R' in party:\n",
    "        return [word for word in word_tokenize(text) if not word in stops]\n",
    "    elif 'D' in party:\n",
    "        return [word for word in word_tokenize(text) if not word in stops]\n",
    "    else:\n",
    "        return [word for word in word_tokenize(text) if not word in stops]\n",
    "        "
   ]
  },
  {
   "cell_type": "code",
   "execution_count": null,
   "metadata": {
    "id": "0XO1mPc8Ix4Z"
   },
   "outputs": [],
   "source": [
    "train_data['Tokens'] = train_data.apply(lambda x: tokenize_speech(x['Text'],x['Party']),axis=1)\n",
    "test_data['Tokens'] = test_data.apply(lambda x: tokenize_speech(x['Text'],x['Party']),axis=1)"
   ]
  },
  {
   "cell_type": "markdown",
   "metadata": {
    "id": "p84JPlXJIx4e"
   },
   "source": [
    "### Demonstration of Speech tokenization and token count(s)"
   ]
  },
  {
   "cell_type": "code",
   "execution_count": null,
   "metadata": {
    "id": "MuG5feE6Ix4f",
    "outputId": "1f50707b-9b24-49b5-8ee0-e89c2036e729"
   },
   "outputs": [
    {
     "name": "stdout",
     "output_type": "stream",
     "text": [
      "['today', 'clear', 'choices', 'every', 'day', 'face', 'black', 'white', 'options', 'often', 'issues', 'debate', 'floor', 'many', 'shades', 'gray', 'today', 'confusion', 'muddying', 'issues', 'way', 'mask', 'harm', 'bill', 'would', 'cut', 'education', 'spending', 'first', 'decade', 'slash', 'funding', 'worker', 'youth', 'training', 'provide', 'increase', 'home', 'heating', 'assistance', 'low-income', 'families', 'today', 'choice', 'pass', 'bill', 'detrimental', 'children', 'future', 'hurt', 'students', 'need', 'financial', 'assistance', 'go', 'college', 'help', 'families', 'struggling', 'pay', 'heating', 'bills', 'severely', 'hinder', 'research', 'preventive', 'health', 'efforts', 'reject', 'bill', 'demand', 'something', 'better', 'american', 'families', 'heard', 'bill', 'result', 'priorities', 'well', 'one', 'point', 'agree', 'republican', 'colleagues', 'bill', 'result', 'priorities', 'wrong', 'priorities', 'republican', 'leadership', 'congress', 'content', 'spend', 'tax', 'cuts', 'entire', 'department', 'education', 'labor', 'spend', '70', 'billion', 'tax', 'cuts', 'provide', 'children', 'access', 'technology', 'advanced', 'science', 'math', 'instruction', 'need', 'compete', 'today', 'world', 'give', 'millionaires', 'break', 'provide', 'students', 'even', 'meager', 'increase', 'pell', 'grants', 'help', 'pay', 'rising', 'cost', 'college', 'shell', 'billions', 'tax', 'breaks', 'oil', 'companies', 'help', 'need', 'prepare', 'expected', 'one', 'costliest', 'winters', 'yet', 'clear', 'republicans', 'wrong', 'priorities', 'mind', 'nation', 'children', 'education', 'shortchanged', 'administration', 'scrounge', 'around', 'million', 'pay', 'tax', 'cuts', 'benefit', 'small', 'minority', 'country', 'people', 'losing', 'faith', 'government', 'leaders', 'asking', 'honesty', 'looking', 'answers', 'everyday', 'needs', 'bill', 'provides', 'answers', 'bill', 'tells', 'go', 'alone', 'america', 'deserves', 'better', 'vote', 'conference', 'report', 'shortchanges', 'unfairly', 'punishes', 'everyday', 'americans'] \n",
      "\n",
      "\n",
      "Total tokens: 196\n",
      "Total UNIQUE tokens: 149\n"
     ]
    }
   ],
   "source": [
    "print(train_data['Tokens'][1], '\\n\\n')\n",
    "print('Total tokens:', len(train_data['Tokens'][1]))\n",
    "print('Total UNIQUE tokens:', len(set(train_data['Tokens'][1])))"
   ]
  },
  {
   "cell_type": "markdown",
   "metadata": {
    "id": "47e70OW7Ix4i"
   },
   "source": [
    "### Total Tokens & Unique Tokens for each Speech"
   ]
  },
  {
   "cell_type": "code",
   "execution_count": null,
   "metadata": {
    "id": "TdkXYTgrIx4j"
   },
   "outputs": [],
   "source": [
    "# Create column of TOTAL token count per text\n",
    "train_data['Total_tokens'] = train_data['Tokens'].apply(lambda x: len(x))\n",
    "test_data['Total_tokens'] = test_data['Tokens'].apply(lambda x: len(x))\n",
    "\n",
    "# Create column of UNIQUE token count per text\n",
    "train_data['Unique_tokens'] = train_data['Tokens'].apply(lambda x: len(set(x)))\n",
    "test_data['Unique_tokens'] = test_data['Tokens'].apply(lambda x: len(set(x)))"
   ]
  },
  {
   "cell_type": "code",
   "execution_count": null,
   "metadata": {
    "id": "hKewTv75Ix4m"
   },
   "outputs": [],
   "source": [
    "Rtoks = (sum(train_data.Total_tokens[train_data['Party'] == 'R']))\n",
    "Dtoks = (sum(train_data.Total_tokens[train_data['Party'] == 'D']))\n",
    "Itoks = (sum(train_data.Total_tokens[train_data['Party'] == 'I']))\n",
    "\n",
    "RtoksU = (sum(train_data.Unique_tokens[train_data['Party'] == 'R']))\n",
    "DtoksU = (sum(train_data.Unique_tokens[train_data['Party'] == 'D']))\n",
    "ItoksU = (sum(train_data.Unique_tokens[train_data['Party'] == 'I']))"
   ]
  },
  {
   "cell_type": "code",
   "execution_count": null,
   "metadata": {
    "id": "hIqQyTNwIx4q"
   },
   "outputs": [],
   "source": [
    "totalToks = Rtoks+Dtoks+Itoks\n",
    "totalToksU = RtoksU+DtoksU+ItoksU"
   ]
  },
  {
   "cell_type": "markdown",
   "metadata": {
    "id": "ZsauqPQpIx4t"
   },
   "source": [
    "### Cumulative Total  & Unique Total Tokens"
   ]
  },
  {
   "cell_type": "code",
   "execution_count": null,
   "metadata": {
    "id": "8rcFEosGIx4v",
    "outputId": "0afcae5e-6975-4730-a943-b49011e1ade0"
   },
   "outputs": [
    {
     "name": "stdout",
     "output_type": "stream",
     "text": [
      "There are 707148 total words in the corpus \n",
      "\n",
      "There are 463060 UNIQUE words in the corpus\n"
     ]
    }
   ],
   "source": [
    "print(f'There are {totalToks} total words in the corpus', '\\n')\n",
    "print(f'There are {totalToksU} UNIQUE words in the corpus')"
   ]
  },
  {
   "cell_type": "markdown",
   "metadata": {
    "id": "WZ5shriVIx4y"
   },
   "source": [
    "### Cumulative Total & Unique Total Tokens by Party"
   ]
  },
  {
   "cell_type": "code",
   "execution_count": null,
   "metadata": {
    "id": "o5hQgbftIx4z",
    "outputId": "1009e1ab-1ca5-47e9-fa6d-a4231cd04590"
   },
   "outputs": [
    {
     "name": "stdout",
     "output_type": "stream",
     "text": [
      "There are 293632 words in the Republican speeches\n",
      "There are 411302 words in the Democrat speeches\n",
      "There are 2214 words in the Independent speeches \n",
      "\n",
      "There are 195415 UNIQUE words in the Republican speeches\n",
      "There are 266259 UNIQUE words in the Democrat speeches\n",
      "There are 1386 UNIQUE words in the Independent speeches\n"
     ]
    }
   ],
   "source": [
    "print(f'There are {Rtoks} words in the Republican speeches')\n",
    "print(f'There are {Dtoks} words in the Democrat speeches')\n",
    "print(f'There are {Itoks} words in the Independent speeches', '\\n')\n",
    "\n",
    "print(f'There are {RtoksU} UNIQUE words in the Republican speeches')\n",
    "print(f'There are {DtoksU} UNIQUE words in the Democrat speeches')\n",
    "print(f'There are {ItoksU} UNIQUE words in the Independent speeches')"
   ]
  },
  {
   "cell_type": "code",
   "execution_count": null,
   "metadata": {
    "id": "dyHxm9c8Ix43",
    "outputId": "23456d45-5e39-48d8-81c7-82cdde064649"
   },
   "outputs": [
    {
     "data": {
      "text/html": [
       "<div>\n",
       "<style scoped>\n",
       "    .dataframe tbody tr th:only-of-type {\n",
       "        vertical-align: middle;\n",
       "    }\n",
       "\n",
       "    .dataframe tbody tr th {\n",
       "        vertical-align: top;\n",
       "    }\n",
       "\n",
       "    .dataframe thead th {\n",
       "        text-align: right;\n",
       "    }\n",
       "</style>\n",
       "<table border=\"1\" class=\"dataframe\">\n",
       "  <thead>\n",
       "    <tr style=\"text-align: right;\">\n",
       "      <th></th>\n",
       "      <th>File</th>\n",
       "      <th>Text</th>\n",
       "      <th>Label</th>\n",
       "      <th>Party</th>\n",
       "      <th>Discussion</th>\n",
       "      <th>Vote</th>\n",
       "      <th>NumSents</th>\n",
       "      <th>Tokens</th>\n",
       "      <th>Total_tokens</th>\n",
       "      <th>Unique_tokens</th>\n",
       "    </tr>\n",
       "  </thead>\n",
       "  <tbody>\n",
       "    <tr>\n",
       "      <th>0</th>\n",
       "      <td>282_400436_1413023_DMN</td>\n",
       "      <td>mr. speaker , i would like to say a word about...</td>\n",
       "      <td>DMN</td>\n",
       "      <td>D</td>\n",
       "      <td>M</td>\n",
       "      <td>N</td>\n",
       "      <td>17</td>\n",
       "      <td>[would, like, say, word, illinois, also, proba...</td>\n",
       "      <td>167</td>\n",
       "      <td>127</td>\n",
       "    </tr>\n",
       "    <tr>\n",
       "      <th>1</th>\n",
       "      <td>088_400272_2994052_DON</td>\n",
       "      <td>mr. speaker , today we have some very clear ch...</td>\n",
       "      <td>DON</td>\n",
       "      <td>D</td>\n",
       "      <td>O</td>\n",
       "      <td>N</td>\n",
       "      <td>16</td>\n",
       "      <td>[today, clear, choices, every, day, face, blac...</td>\n",
       "      <td>196</td>\n",
       "      <td>149</td>\n",
       "    </tr>\n",
       "    <tr>\n",
       "      <th>2</th>\n",
       "      <td>038_400080_0251064_DON</td>\n",
       "      <td>mr. speaker , i yield myself such time as i ma...</td>\n",
       "      <td>DON</td>\n",
       "      <td>D</td>\n",
       "      <td>O</td>\n",
       "      <td>N</td>\n",
       "      <td>15</td>\n",
       "      <td>[may, consume, would, like, briefly, describe,...</td>\n",
       "      <td>152</td>\n",
       "      <td>111</td>\n",
       "    </tr>\n",
       "    <tr>\n",
       "      <th>3</th>\n",
       "      <td>132_400227_0763073_DON</td>\n",
       "      <td>mr. chairman , i yield back the balance of my ...</td>\n",
       "      <td>DON</td>\n",
       "      <td>D</td>\n",
       "      <td>O</td>\n",
       "      <td>N</td>\n",
       "      <td>1</td>\n",
       "      <td>[back, balance]</td>\n",
       "      <td>2</td>\n",
       "      <td>2</td>\n",
       "    </tr>\n",
       "    <tr>\n",
       "      <th>4</th>\n",
       "      <td>282_400380_1838049_ROY</td>\n",
       "      <td>madam chairman , will the gentleman yield ? \\n</td>\n",
       "      <td>ROY</td>\n",
       "      <td>R</td>\n",
       "      <td>O</td>\n",
       "      <td>Y</td>\n",
       "      <td>1</td>\n",
       "      <td>[]</td>\n",
       "      <td>0</td>\n",
       "      <td>0</td>\n",
       "    </tr>\n",
       "  </tbody>\n",
       "</table>\n",
       "</div>"
      ],
      "text/plain": [
       "                     File                                               Text  \\\n",
       "0  282_400436_1413023_DMN  mr. speaker , i would like to say a word about...   \n",
       "1  088_400272_2994052_DON  mr. speaker , today we have some very clear ch...   \n",
       "2  038_400080_0251064_DON  mr. speaker , i yield myself such time as i ma...   \n",
       "3  132_400227_0763073_DON  mr. chairman , i yield back the balance of my ...   \n",
       "4  282_400380_1838049_ROY     madam chairman , will the gentleman yield ? \\n   \n",
       "\n",
       "  Label Party Discussion Vote  NumSents  \\\n",
       "0   DMN     D          M    N        17   \n",
       "1   DON     D          O    N        16   \n",
       "2   DON     D          O    N        15   \n",
       "3   DON     D          O    N         1   \n",
       "4   ROY     R          O    Y         1   \n",
       "\n",
       "                                              Tokens  Total_tokens  \\\n",
       "0  [would, like, say, word, illinois, also, proba...           167   \n",
       "1  [today, clear, choices, every, day, face, blac...           196   \n",
       "2  [may, consume, would, like, briefly, describe,...           152   \n",
       "3                                    [back, balance]             2   \n",
       "4                                                 []             0   \n",
       "\n",
       "   Unique_tokens  \n",
       "0            127  \n",
       "1            149  \n",
       "2            111  \n",
       "3              2  \n",
       "4              0  "
      ]
     },
     "execution_count": 25,
     "metadata": {
      "tags": []
     },
     "output_type": "execute_result"
    }
   ],
   "source": [
    "train_data.head(5)"
   ]
  },
  {
   "cell_type": "code",
   "execution_count": null,
   "metadata": {
    "id": "cNlLGkttIx45",
    "outputId": "f79bdfd4-995b-4592-baed-49a9174c85c1"
   },
   "outputs": [
    {
     "data": {
      "text/plain": [
       "'madam speaker , i yield myself 35 seconds . \\ni want to give chairman sensenbrenner the benefit of the presumption of a doubt about this section 215 business . \\nwhat happens in the report is it makes it easier to get library and other records under section 215 by creating a presumption that records of anyone to come into contact with a suspected terrorist even accidentally , innocently , is relevant to an investigation . \\nmadam speaker , what he has done is he has moved a part of section 215 to another part of the bill , and that is why it does not operate that way . \\nmadam speaker , i yield 2 minutes to the gentleman from new york ( mr. nadler ) xz4002890 , a ranking subcommittee member of the judiciary committee . \\n'"
      ]
     },
     "execution_count": 26,
     "metadata": {
      "tags": []
     },
     "output_type": "execute_result"
    }
   ],
   "source": [
    "test_data['Text'][0]"
   ]
  },
  {
   "cell_type": "markdown",
   "metadata": {
    "id": "Rdptoly6Ix48"
   },
   "source": [
    "### Avg Number of Sentences by Party"
   ]
  },
  {
   "cell_type": "code",
   "execution_count": null,
   "metadata": {
    "id": "GGgmDa4tIx4-",
    "outputId": "76d13071-a227-40c5-d14b-5957289327e2"
   },
   "outputs": [
    {
     "name": "stdout",
     "output_type": "stream",
     "text": [
      "Avg number of Republican Sentences/Speech: 9.97 \n",
      " Avg number of Democrat Sentences/Speech: 13.07 \n",
      " Avg number of Independent Sentences/Speech: 8.62\n"
     ]
    }
   ],
   "source": [
    "RsentAvg = round((train_data.NumSents[train_data['Party'] == 'R']).mean(), 2)\n",
    "DsentAvg = round((train_data.NumSents[train_data['Party'] == 'D']).mean(), 2)\n",
    "IsentAvg = round((train_data.NumSents[train_data['Party'] == 'I']).mean(), 2)\n",
    "\n",
    "print(f'Avg number of Republican Sentences/Speech: {RsentAvg}', '\\n', \n",
    "      f'Avg number of Democrat Sentences/Speech: {DsentAvg}', '\\n', \n",
    "      f'Avg number of Independent Sentences/Speech: {IsentAvg}')"
   ]
  },
  {
   "cell_type": "markdown",
   "metadata": {
    "id": "bzGo1Gv4Ix5F"
   },
   "source": [
    "### Avg Number of Words by Party"
   ]
  },
  {
   "cell_type": "code",
   "execution_count": null,
   "metadata": {
    "id": "bfdL8J9eIx5F",
    "outputId": "5de69e01-9e50-4a72-878b-74ed86e400be"
   },
   "outputs": [
    {
     "name": "stdout",
     "output_type": "stream",
     "text": [
      "Avg number of Republican Words/Speech: 105.39554917444364 \n",
      " Avg number of Democrat Words/Speech: 144.41783707865167 \n",
      " Avg number of Independent Words/Speech: 85.15384615384616\n"
     ]
    }
   ],
   "source": [
    "AvgRtoks = (train_data.Total_tokens[train_data['Party'] == 'R']).mean()\n",
    "AvgDtoks = (train_data.Total_tokens[train_data['Party'] == 'D']).mean()\n",
    "AvgItoks = (train_data.Total_tokens[train_data['Party'] == 'I']).mean()\n",
    "\n",
    "print(f'Avg number of Republican Words/Speech: {AvgRtoks}', '\\n', \n",
    "      f'Avg number of Democrat Words/Speech: {AvgDtoks}', '\\n', \n",
    "      f'Avg number of Independent Words/Speech: {AvgItoks}')"
   ]
  },
  {
   "cell_type": "code",
   "execution_count": null,
   "metadata": {
    "id": "Njtbj6MHIx5I",
    "outputId": "868c933b-a7cd-401c-cf14-2fd9e531e55c"
   },
   "outputs": [
    {
     "data": {
      "text/html": [
       "<div>\n",
       "<style scoped>\n",
       "    .dataframe tbody tr th:only-of-type {\n",
       "        vertical-align: middle;\n",
       "    }\n",
       "\n",
       "    .dataframe tbody tr th {\n",
       "        vertical-align: top;\n",
       "    }\n",
       "\n",
       "    .dataframe thead th {\n",
       "        text-align: right;\n",
       "    }\n",
       "</style>\n",
       "<table border=\"1\" class=\"dataframe\">\n",
       "  <thead>\n",
       "    <tr style=\"text-align: right;\">\n",
       "      <th></th>\n",
       "      <th>File</th>\n",
       "      <th>Text</th>\n",
       "      <th>Label</th>\n",
       "      <th>Party</th>\n",
       "      <th>Discussion</th>\n",
       "      <th>Vote</th>\n",
       "      <th>NumSents</th>\n",
       "      <th>Tokens</th>\n",
       "      <th>Total_tokens</th>\n",
       "      <th>Unique_tokens</th>\n",
       "    </tr>\n",
       "  </thead>\n",
       "  <tbody>\n",
       "    <tr>\n",
       "      <th>0</th>\n",
       "      <td>414_400080_3170075_DON</td>\n",
       "      <td>madam speaker , i yield myself 35 seconds . \\n...</td>\n",
       "      <td>DON</td>\n",
       "      <td>D</td>\n",
       "      <td>O</td>\n",
       "      <td>N</td>\n",
       "      <td>5</td>\n",
       "      <td>[35, seconds, want, give, sensenbrenner, benef...</td>\n",
       "      <td>53</td>\n",
       "      <td>46</td>\n",
       "    </tr>\n",
       "    <tr>\n",
       "      <th>1</th>\n",
       "      <td>414_400061_1909178_ROY</td>\n",
       "      <td>mr. chairman , i demand a recorded vote . \\n</td>\n",
       "      <td>ROY</td>\n",
       "      <td>R</td>\n",
       "      <td>O</td>\n",
       "      <td>Y</td>\n",
       "      <td>1</td>\n",
       "      <td>[demand, recorded, vote]</td>\n",
       "      <td>3</td>\n",
       "      <td>3</td>\n",
       "    </tr>\n",
       "    <tr>\n",
       "      <th>2</th>\n",
       "      <td>102_400175_0641038_ROY</td>\n",
       "      <td>mr. speaker , i rise today as a cosponsor of h...</td>\n",
       "      <td>ROY</td>\n",
       "      <td>R</td>\n",
       "      <td>O</td>\n",
       "      <td>Y</td>\n",
       "      <td>19</td>\n",
       "      <td>[rise, today, cosponsor, h.r, 8, support, rule...</td>\n",
       "      <td>161</td>\n",
       "      <td>111</td>\n",
       "    </tr>\n",
       "    <tr>\n",
       "      <th>3</th>\n",
       "      <td>414_400080_3170065_DON</td>\n",
       "      <td>madam speaker , i yield myself 15 seconds . \\n...</td>\n",
       "      <td>DON</td>\n",
       "      <td>D</td>\n",
       "      <td>O</td>\n",
       "      <td>N</td>\n",
       "      <td>4</td>\n",
       "      <td>[15, seconds, let, remind, friend, returned, c...</td>\n",
       "      <td>27</td>\n",
       "      <td>27</td>\n",
       "    </tr>\n",
       "    <tr>\n",
       "      <th>4</th>\n",
       "      <td>472_400314_2238033_DON</td>\n",
       "      <td>mr. speaker , i thank the ranking member , the...</td>\n",
       "      <td>DON</td>\n",
       "      <td>D</td>\n",
       "      <td>O</td>\n",
       "      <td>N</td>\n",
       "      <td>61</td>\n",
       "      <td>[thank, ranking, member, new, york, ms., slaug...</td>\n",
       "      <td>656</td>\n",
       "      <td>398</td>\n",
       "    </tr>\n",
       "  </tbody>\n",
       "</table>\n",
       "</div>"
      ],
      "text/plain": [
       "                     File                                               Text  \\\n",
       "0  414_400080_3170075_DON  madam speaker , i yield myself 35 seconds . \\n...   \n",
       "1  414_400061_1909178_ROY       mr. chairman , i demand a recorded vote . \\n   \n",
       "2  102_400175_0641038_ROY  mr. speaker , i rise today as a cosponsor of h...   \n",
       "3  414_400080_3170065_DON  madam speaker , i yield myself 15 seconds . \\n...   \n",
       "4  472_400314_2238033_DON  mr. speaker , i thank the ranking member , the...   \n",
       "\n",
       "  Label Party Discussion Vote  NumSents  \\\n",
       "0   DON     D          O    N         5   \n",
       "1   ROY     R          O    Y         1   \n",
       "2   ROY     R          O    Y        19   \n",
       "3   DON     D          O    N         4   \n",
       "4   DON     D          O    N        61   \n",
       "\n",
       "                                              Tokens  Total_tokens  \\\n",
       "0  [35, seconds, want, give, sensenbrenner, benef...            53   \n",
       "1                           [demand, recorded, vote]             3   \n",
       "2  [rise, today, cosponsor, h.r, 8, support, rule...           161   \n",
       "3  [15, seconds, let, remind, friend, returned, c...            27   \n",
       "4  [thank, ranking, member, new, york, ms., slaug...           656   \n",
       "\n",
       "   Unique_tokens  \n",
       "0             46  \n",
       "1              3  \n",
       "2            111  \n",
       "3             27  \n",
       "4            398  "
      ]
     },
     "execution_count": 29,
     "metadata": {
      "tags": []
     },
     "output_type": "execute_result"
    }
   ],
   "source": [
    "test_data.head()"
   ]
  },
  {
   "cell_type": "code",
   "execution_count": null,
   "metadata": {
    "id": "rE3L8XN1Ix5K"
   },
   "outputs": [],
   "source": [
    "import spacy\n",
    "nlp = spacy.load(\"en\")"
   ]
  },
  {
   "cell_type": "code",
   "execution_count": null,
   "metadata": {
    "id": "FugqnSUmIx5P"
   },
   "outputs": [],
   "source": [
    "# adding additional words to stop words list \n",
    "addtl_stops = customStopWords + ['would', 'say', 'like']\n",
    "for stopword in addtl_stops:\n",
    "    lexeme = nlp.vocab[stopword]\n",
    "    lexeme.is_stop = True\n",
    "    \n",
    "def lemmatize_pipe(doc):\n",
    "    lemma_list = [str(tok.lemma_) for tok in doc\n",
    "                  if tok.is_alpha and not tok.is_stop and not tok.like_num] \n",
    "    return lemma_list\n",
    "\n",
    "def preprocess_pipe(texts):\n",
    "    preproc_pipe = []\n",
    "    for doc in nlp.pipe(texts, batch_size=20):\n",
    "        preproc_pipe.append(lemmatize_pipe(doc))\n",
    "    return preproc_pipe"
   ]
  },
  {
   "cell_type": "code",
   "execution_count": null,
   "metadata": {
    "id": "PWkTIUGMIx5R",
    "outputId": "f6eacdf6-74c6-418e-8e68-a9b7c485e1bc"
   },
   "outputs": [
    {
     "name": "stdout",
     "output_type": "stream",
     "text": [
      "CPU times: user 1min 51s, sys: 20.7 s, total: 2min 12s\n",
      "Wall time: 2min 12s\n"
     ]
    }
   ],
   "source": [
    "%%time\n",
    "train_data['lemmas'] = preprocess_pipe(train_data['Text'])"
   ]
  },
  {
   "cell_type": "code",
   "execution_count": null,
   "metadata": {
    "id": "u07E0Oy0Ix5U",
    "outputId": "4cea7d78-0c3c-492b-9a5f-7dbbcfc3be83"
   },
   "outputs": [
    {
     "name": "stdout",
     "output_type": "stream",
     "text": [
      "CPU times: user 39.3 s, sys: 7.24 s, total: 46.6 s\n",
      "Wall time: 46.9 s\n"
     ]
    }
   ],
   "source": [
    "%%time\n",
    "test_data['lemmas'] = preprocess_pipe(test_data['Text'])"
   ]
  },
  {
   "cell_type": "markdown",
   "metadata": {
    "id": "kHJbThVuIx5W"
   },
   "source": [
    "# Pickle the training and test data for downstream import"
   ]
  },
  {
   "cell_type": "code",
   "execution_count": null,
   "metadata": {
    "id": "a52yKMe8Ix5W"
   },
   "outputs": [],
   "source": [
    "train_data.to_pickle('./train_data.pkl')\n",
    "test_data.to_pickle('./test_data.pkl')"
   ]
  }
 ],
 "metadata": {
  "colab": {
   "collapsed_sections": [
    "U0_BlFZgIx4K",
    "p84JPlXJIx4e",
    "47e70OW7Ix4i",
    "ZsauqPQpIx4t",
    "WZ5shriVIx4y",
    "Rdptoly6Ix48",
    "bzGo1Gv4Ix5F",
    "AnjQ0rJQIx5d",
    "R23641UPIx5e",
    "F56sYw0sIx5m",
    "BmzDyPAZIx5z",
    "1kycRzK6Ix6D",
    "fNDH4iFVIx6P",
    "Mwq5QZcEIx6e",
    "IInYVx73Ix6p",
    "DkBnr9HfIx6u",
    "9bHPrG5KIx6w",
    "FnQyeCVvIx6-",
    "stsx2SYsIx7B",
    "sfr6m6FEIx7B",
    "2lDCY1A9Ix7P",
    "suTJ_JK2Ix7W",
    "MAsytRvuIx7m",
    "c6GFvNpLIx7w",
    "V-m4pGWAIx7z",
    "eMqkiSeiIx74",
    "bKzjVdXDIx77",
    "QyGxtsqWIx7_",
    "7yP2aw7LIx8C",
    "E92PyHakIx8K"
   ],
   "name": "Convote_Exploration.ipynb",
   "provenance": []
  },
  "kernelspec": {
   "display_name": "Python 3",
   "language": "python",
   "name": "python3"
  },
  "language_info": {
   "codemirror_mode": {
    "name": "ipython",
    "version": 3
   },
   "file_extension": ".py",
   "mimetype": "text/x-python",
   "name": "python",
   "nbconvert_exporter": "python",
   "pygments_lexer": "ipython3",
   "version": "3.7.4"
  },
  "toc": {
   "base_numbering": 1,
   "nav_menu": {},
   "number_sections": true,
   "sideBar": true,
   "skip_h1_title": false,
   "title_cell": "Table of Contents",
   "title_sidebar": "Contents",
   "toc_cell": false,
   "toc_position": {
    "height": "calc(100% - 180px)",
    "left": "10px",
    "top": "150px",
    "width": "193px"
   },
   "toc_section_display": true,
   "toc_window_display": true
  }
 },
 "nbformat": 4,
 "nbformat_minor": 4
}
